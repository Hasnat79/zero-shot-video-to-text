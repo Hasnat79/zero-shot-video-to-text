{
 "cells": [
  {
   "cell_type": "code",
   "execution_count": 56,
   "metadata": {},
   "outputs": [
    {
     "data": {
      "text/plain": [
       "['v_4Lu8ECLHvK4',\n",
       " {'start': 0,\n",
       "  'end': 124.23,\n",
       "  'summary_cap': 'There are some people including small children near a soccer field.',\n",
       "  'path': '/home/grads/h/hasnat.md.abdullah/open_ended_activity_analysis/zero-shot-video-to-text/data/ActivityNet_captions_dataset/validation/Playing_kickball/4Lu8ECLHvK4.mp4',\n",
       "  'generated_summary': 'Video presents the pitch for a pitcher throwing to his son, who is playing in an elementary baseball league.',\n",
       "  'url': 'https://www.youtube.com/watch?v=4Lu8ECLHvK4',\n",
       "  'label': 'Playing kickball',\n",
       "  'tian_caption_no_instruction': '',\n",
       "  'hasnat_caption_no_instruction': '',\n",
       "  'tian_caption_with_instruction': '',\n",
       "  'hasnat_caption_with_instruction': '',\n",
       "  'caption_rating(1-wst, 5-bst)': '4',\n",
       "  'slot2_path': '/slot2/open_ended_video_analytics/data/ActivityNet_200/validation/Playing_kickball/4Lu8ECLHvK4.mp4',\n",
       "  'slot2_framepath': '/slot2/open_ended_video_analytics/data/Decap_ANet_videosummary/4Lu8ECLHvK4',\n",
       "  'DeCap_caption': 'a baseball player is up to bat at a baseball game . ',\n",
       "  'DeCap_caption_bleu1': 0.090909,\n",
       "  'DeCap_caption_bleu2': 0.0,\n",
       "  'DeCap_caption_bleu3': 0.0,\n",
       "  'DeCap_caption_bleu4': 0.0,\n",
       "  'DeCap_caption_meteor': 0.045455,\n",
       "  'DeCap_caption_cider': 0.0,\n",
       "  'generated_summary_bleu1': 0.052632,\n",
       "  'generated_summary_bleu2': 0.0,\n",
       "  'generated_summary_bleu3': 0.0,\n",
       "  'generated_summary_bleu4': 0.0,\n",
       "  'generated_summary_meteor': 0.042373,\n",
       "  'generated_summary_cider': 0.0}]"
      ]
     },
     "execution_count": 56,
     "metadata": {},
     "output_type": "execute_result"
    }
   ],
   "source": [
    "import json\n",
    "def load_json_file(file_path):\n",
    "    with open(file_path, 'r') as file:\n",
    "        data = json.load(file)\n",
    "    return data\n",
    "v1_path = \"/home/grads/h/hasnat.md.abdullah/open_ended_activity_analysis/zero-shot-video-to-text/experiments/summary_study_activityNet/manual_rating/decap_output_val_1_summary_id_caption_hasnat_low72.json\"\n",
    "v1 = load_json_file(v1_path)\n",
    "\n",
    "len(v1)\n",
    "\n",
    "v1[0]"
   ]
  },
  {
   "cell_type": "code",
   "execution_count": 51,
   "metadata": {},
   "outputs": [
    {
     "data": {
      "text/plain": [
       "36"
      ]
     },
     "execution_count": 51,
     "metadata": {},
     "output_type": "execute_result"
    }
   ],
   "source": [
    "c =0\n",
    "for v in v1:\n",
    "    cap__rate = v[1].get('caption_rating(1-wst, 5-bst)', '')\n",
    "    if cap__rate  == '5':\n",
    "        c+=1\n",
    "c        "
   ]
  },
  {
   "cell_type": "code",
   "execution_count": 70,
   "metadata": {},
   "outputs": [
    {
     "data": {
      "text/plain": [
       "49"
      ]
     },
     "execution_count": 70,
     "metadata": {},
     "output_type": "execute_result"
    }
   ],
   "source": [
    "v2_path = \"/home/grads/h/hasnat.md.abdullah/open_ended_activity_analysis/zero-shot-video-to-text/experiments/summary_study_activityNet/manual_rating/decap_output_val_2_summary_id_caption_tian_low82.json\"\n",
    "v2 =load_json_file(v2_path)\n",
    "c =0\n",
    "for v in v2:\n",
    "    cap__rate = v[1].get('caption_rating(1-wst, 5-bst)', '')\n",
    "    if cap__rate  == '5':\n",
    "        c+=1\n",
    "c"
   ]
  },
  {
   "cell_type": "code",
   "execution_count": 14,
   "metadata": {},
   "outputs": [
    {
     "data": {
      "text/plain": [
       "['v_4Lu8ECLHvK4',\n",
       " {'start': 0,\n",
       "  'end': 124.23,\n",
       "  'summary_cap': 'There are some people including small children near a soccer field.',\n",
       "  'path': '/home/grads/h/hasnat.md.abdullah/open_ended_activity_analysis/zero-shot-video-to-text/data/ActivityNet_captions_dataset/validation/Playing_kickball/4Lu8ECLHvK4.mp4',\n",
       "  'generated_summary': 'Video presents the pitch for a pitcher throwing to his son, who is playing in an elementary baseball league.',\n",
       "  'url': 'https://www.youtube.com/watch?v=4Lu8ECLHvK4',\n",
       "  'label': 'Playing kickball',\n",
       "  'tian_caption_no_instruction': 'a group of kids are playing in the field.',\n",
       "  'hasnat_caption_no_instruction': '',\n",
       "  'tian_caption_with_instruction': '',\n",
       "  'hasnat_caption_with_instruction': '',\n",
       "  'caption_rating(1-wst, 5-bst)': '',\n",
       "  'slot2_path': '/slot2/open_ended_video_analytics/data/ActivityNet_200/validation/Playing_kickball/4Lu8ECLHvK4.mp4',\n",
       "  'slot2_framepath': '/slot2/open_ended_video_analytics/data/Decap_ANet_videosummary/4Lu8ECLHvK4',\n",
       "  'DeCap_caption': 'a baseball player is up to bat at a baseball game . ',\n",
       "  'DeCap_caption_bleu1': 0.090909,\n",
       "  'DeCap_caption_bleu2': 0.0,\n",
       "  'DeCap_caption_bleu3': 0.0,\n",
       "  'DeCap_caption_bleu4': 0.0,\n",
       "  'DeCap_caption_meteor': 0.045455,\n",
       "  'DeCap_caption_cider': 0.0,\n",
       "  'generated_summary_bleu1': 0.052632,\n",
       "  'generated_summary_bleu2': 0.0,\n",
       "  'generated_summary_bleu3': 0.0,\n",
       "  'generated_summary_bleu4': 0.0,\n",
       "  'generated_summary_meteor': 0.042373,\n",
       "  'generated_summary_cider': 0.0}]"
      ]
     },
     "execution_count": 14,
     "metadata": {},
     "output_type": "execute_result"
    }
   ],
   "source": [
    "# our captions vs _low10 (tian)\n",
    "low10_tian_path = \"/home/grads/h/hasnat.md.abdullah/open_ended_activity_analysis/zero-shot-video-to-text/experiments/summary_study_activityNet/manual_captioning/decap_output_val_1_summary_id_caption_tian_low10.json\"\n",
    "low_tian = load_json_file(low10_tian_path)\n",
    "\n",
    "low_tian[0]"
   ]
  },
  {
   "cell_type": "code",
   "execution_count": 27,
   "metadata": {},
   "outputs": [
    {
     "name": "stdout",
     "output_type": "stream",
     "text": [
      "len(reference_captions) 10\n",
      "len(candidate_captions) 10\n",
      "cumulative BLEU scores:\n",
      "BLEU@1: 0.0888\n",
      "BLEU@2: 0.0000\n",
      "BLEU@3: 0.0000\n",
      "BLEU@4: 0.0000\n"
     ]
    }
   ],
   "source": [
    "import nltk\n",
    "import string\n",
    "from nltk.translate.bleu_score import sentence_bleu\n",
    "import statistics\n",
    "def remove_punctuation(sentence):\n",
    "    # Remove punctuations from the sentence\n",
    "    no_punct = sentence.translate(str.maketrans(\"\", \"\", string.punctuation))\n",
    "    # Lowercase all the words\n",
    "    lowercase_sentence = no_punct.lower()\n",
    "\n",
    "    # stem words\n",
    "    stemmer = nltk.stem.PorterStemmer()\n",
    "    sentence = \" \".join([stemmer.stem(word) for word in lowercase_sentence.split()])\n",
    "    return sentence\n",
    "reference = []\n",
    "candidate = []\n",
    "for v in low_tian:\n",
    "    # print(remove_punctuation(v[1].get('tian_caption_no_instruction', '')))\n",
    "    # Extract 'tian_caption_no_instruction' in a list called 'candidate'\n",
    "    candidate.append(remove_punctuation(v[1].get('tian_caption_no_instruction', '')))\n",
    "\n",
    "    # Extract 'summary_cap' in a list called 'reference'\n",
    "    reference.append(remove_punctuation(v[1].get('summary_cap', '')))\n",
    "\n",
    "\n",
    "\n",
    "\n",
    "# Tokenize the captions\n",
    "reference_captions = [caption.split() for caption in reference]\n",
    "candidate_captions = [caption.split() for caption in candidate]\n",
    "\n",
    "print(\"len(reference_captions)\",len(reference))\n",
    "print(\"len(candidate_captions)\",len(candidate))\n",
    "# Calculate BLEU score\n",
    "cumulative_bleu_scores = []\n",
    "weight_list = [(1, 0, 0, 0),(0.5, 0.5, 0, 0),(0.33, 0.33, 0.33, 0),(0.25, 0.25, 0.25, 0.25)]\n",
    "for n in range(1, 5):\n",
    "    bleu_scores = [sentence_bleu(ref, cand, weights=weight_list[n-1]) for ref, cand in zip(reference_captions, candidate_captions)]\n",
    "    \n",
    "    # print(type(bleu_scores))\n",
    "\n",
    "    average_bleu_score = statistics.mean(bleu_scores)\n",
    "    cumulative_bleu_scores.append(average_bleu_score)\n",
    "\n",
    "# Print cumulative BLEU scores\n",
    "print(\"cumulative BLEU scores:\")\n",
    "for i, score in enumerate(cumulative_bleu_scores):\n",
    "    print(f\"BLEU@{i+1}: {score:.4f}\")"
   ]
  },
  {
   "cell_type": "code",
   "execution_count": 35,
   "metadata": {},
   "outputs": [
    {
     "name": "stdout",
     "output_type": "stream",
     "text": [
      "len(reference_captions) 10\n",
      "len(candidate_captions) 10\n",
      "cumulative BLEU scores:\n",
      "BLEU@1: 0.0975\n",
      "BLEU@2: 0.0000\n",
      "BLEU@3: 0.0000\n",
      "BLEU@4: 0.0000\n"
     ]
    },
    {
     "name": "stderr",
     "output_type": "stream",
     "text": [
      "/home/grads/h/hasnat.md.abdullah/open_ended_activity_analysis/oeaa/lib/python3.6/site-packages/nltk/translate/bleu_score.py:552: UserWarning: \n",
      "The hypothesis contains 0 counts of 2-gram overlaps.\n",
      "Therefore the BLEU score evaluates to 0, independently of\n",
      "how many N-gram overlaps of lower order it contains.\n",
      "Consider using lower n-gram order or use SmoothingFunction()\n",
      "  warnings.warn(_msg)\n",
      "/home/grads/h/hasnat.md.abdullah/open_ended_activity_analysis/oeaa/lib/python3.6/site-packages/nltk/translate/bleu_score.py:552: UserWarning: \n",
      "The hypothesis contains 0 counts of 3-gram overlaps.\n",
      "Therefore the BLEU score evaluates to 0, independently of\n",
      "how many N-gram overlaps of lower order it contains.\n",
      "Consider using lower n-gram order or use SmoothingFunction()\n",
      "  warnings.warn(_msg)\n",
      "/home/grads/h/hasnat.md.abdullah/open_ended_activity_analysis/oeaa/lib/python3.6/site-packages/nltk/translate/bleu_score.py:552: UserWarning: \n",
      "The hypothesis contains 0 counts of 4-gram overlaps.\n",
      "Therefore the BLEU score evaluates to 0, independently of\n",
      "how many N-gram overlaps of lower order it contains.\n",
      "Consider using lower n-gram order or use SmoothingFunction()\n",
      "  warnings.warn(_msg)\n"
     ]
    }
   ],
   "source": [
    "# ground truth cap vs low10 hasnat\n",
    "low10_hasnat_path = \"/home/grads/h/hasnat.md.abdullah/open_ended_activity_analysis/zero-shot-video-to-text/experiments/summary_study_activityNet/manual_captioning/decap_output_val_1_summary_id_caption_hasnat_low10.json\"\n",
    "low_hasnat = load_json_file(low10_hasnat_path)\n",
    "\n",
    "\n",
    "import nltk\n",
    "import string\n",
    "from nltk.translate.bleu_score import sentence_bleu\n",
    "import statistics\n",
    "def remove_punctuation(sentence):\n",
    "    # Remove punctuations from the sentence\n",
    "    no_punct = sentence.translate(str.maketrans(\"\", \"\", string.punctuation))\n",
    "    # Lowercase all the words\n",
    "    lowercase_sentence = no_punct.lower()\n",
    "\n",
    "    # stem words\n",
    "    stemmer = nltk.stem.PorterStemmer()\n",
    "    sentence = \" \".join([stemmer.stem(word) for word in lowercase_sentence.split()])\n",
    "    return sentence\n",
    "reference = []\n",
    "candidate = []\n",
    "for v in low_hasnat:\n",
    "    # print(remove_punctuation(v[1].get('tian_caption_no_instruction', '')))\n",
    "    # Extract 'tian_caption_no_instruction' in a list called 'candidate'\n",
    "    candidate.append(remove_punctuation(v[1].get('hasnat_caption_no_instruction', '')))\n",
    "\n",
    "    # Extract 'summary_cap' in a list called 'reference'\n",
    "    reference.append(remove_punctuation(v[1].get('summary_cap', '')))\n",
    "\n",
    "\n",
    "\n",
    "\n",
    "# Tokenize the captions\n",
    "reference_captions = [caption.split() for caption in reference]\n",
    "candidate_captions = [caption.split() for caption in candidate]\n",
    "\n",
    "print(\"len(reference_captions)\",len(reference))\n",
    "print(\"len(candidate_captions)\",len(candidate))\n",
    "# Calculate BLEU score\n",
    "cumulative_bleu_scores = []\n",
    "weight_list = [(1, 0, 0, 0),(0.5, 0.5, 0, 0),(0.33, 0.33, 0.33, 0),(0.25, 0.25, 0.25, 0.25)]\n",
    "for n in range(1, 5):\n",
    "    bleu_scores = [sentence_bleu(ref, cand, weights=weight_list[n-1]) for ref, cand in zip(reference_captions, candidate_captions)]\n",
    "    \n",
    "    # print(type(bleu_scores))\n",
    "\n",
    "    average_bleu_score = statistics.mean(bleu_scores)\n",
    "    cumulative_bleu_scores.append(average_bleu_score)\n",
    "\n",
    "# Print cumulative BLEU scores\n",
    "print(\"cumulative BLEU scores:\")\n",
    "for i, score in enumerate(cumulative_bleu_scores):\n",
    "    print(f\"BLEU@{i+1}: {score:.4f}\")"
   ]
  },
  {
   "cell_type": "code",
   "execution_count": 36,
   "metadata": {},
   "outputs": [
    {
     "name": "stdout",
     "output_type": "stream",
     "text": [
      "len(reference_captions) 10\n",
      "len(candidate_captions) 10\n",
      "cumulative BLEU scores:\n",
      "BLEU@1: 0.1013\n",
      "BLEU@2: 0.0000\n",
      "BLEU@3: 0.0000\n",
      "BLEU@4: 0.0000\n"
     ]
    },
    {
     "name": "stderr",
     "output_type": "stream",
     "text": [
      "/home/grads/h/hasnat.md.abdullah/open_ended_activity_analysis/oeaa/lib/python3.6/site-packages/nltk/translate/bleu_score.py:552: UserWarning: \n",
      "The hypothesis contains 0 counts of 2-gram overlaps.\n",
      "Therefore the BLEU score evaluates to 0, independently of\n",
      "how many N-gram overlaps of lower order it contains.\n",
      "Consider using lower n-gram order or use SmoothingFunction()\n",
      "  warnings.warn(_msg)\n",
      "/home/grads/h/hasnat.md.abdullah/open_ended_activity_analysis/oeaa/lib/python3.6/site-packages/nltk/translate/bleu_score.py:552: UserWarning: \n",
      "The hypothesis contains 0 counts of 3-gram overlaps.\n",
      "Therefore the BLEU score evaluates to 0, independently of\n",
      "how many N-gram overlaps of lower order it contains.\n",
      "Consider using lower n-gram order or use SmoothingFunction()\n",
      "  warnings.warn(_msg)\n",
      "/home/grads/h/hasnat.md.abdullah/open_ended_activity_analysis/oeaa/lib/python3.6/site-packages/nltk/translate/bleu_score.py:552: UserWarning: \n",
      "The hypothesis contains 0 counts of 4-gram overlaps.\n",
      "Therefore the BLEU score evaluates to 0, independently of\n",
      "how many N-gram overlaps of lower order it contains.\n",
      "Consider using lower n-gram order or use SmoothingFunction()\n",
      "  warnings.warn(_msg)\n"
     ]
    }
   ],
   "source": [
    "# gt hasnat tian\n",
    "\n",
    "low_hasnat\n",
    "low_tian\n",
    "candidate = []\n",
    "reference = []\n",
    "\n",
    "for v in low_tian:\n",
    "    \n",
    "\n",
    "    # Extract 'summary_cap' in a list called 'reference'\n",
    "    \n",
    "    candidate.append(remove_punctuation(v[1].get('tian_caption_no_instruction', '')))\n",
    "for v in low_hasnat:\n",
    "    \n",
    "\n",
    "\n",
    "    reference.append(remove_punctuation(v[1].get('hasnat_caption_no_instruction', '')))\n",
    "    \n",
    "# Tokenize the captions\n",
    "reference_captions = [caption.split() for caption in reference]\n",
    "candidate_captions = [caption.split() for caption in candidate]\n",
    "\n",
    "print(\"len(reference_captions)\",len(reference))\n",
    "print(\"len(candidate_captions)\",len(candidate))\n",
    "# Calculate BLEU score\n",
    "cumulative_bleu_scores = []\n",
    "weight_list = [(1, 0, 0, 0),(0.5, 0.5, 0, 0),(0.33, 0.33, 0.33, 0),(0.25, 0.25, 0.25, 0.25)]\n",
    "for n in range(1, 5):\n",
    "    bleu_scores = [sentence_bleu(ref, cand, weights=weight_list[n-1]) for ref, cand in zip(reference_captions, candidate_captions)]\n",
    "    \n",
    "    # print(type(bleu_scores))\n",
    "\n",
    "    average_bleu_score = statistics.mean(bleu_scores)\n",
    "    cumulative_bleu_scores.append(average_bleu_score)\n",
    "\n",
    "# Print cumulative BLEU scores\n",
    "print(\"cumulative BLEU scores:\")\n",
    "for i, score in enumerate(cumulative_bleu_scores):\n",
    "    print(f\"BLEU@{i+1}: {score:.4f}\")"
   ]
  },
  {
   "cell_type": "code",
   "execution_count": 64,
   "metadata": {},
   "outputs": [
    {
     "data": {
      "image/png": "[encoded data removed]",
      "text/plain": [
       "<Figure size 432x288 with 1 Axes>"
      ]
     },
     "metadata": {
      "needs_background": "light"
     },
     "output_type": "display_data"
    }
   ],
   "source": [
    "#plot ratings\n",
    "import matplotlib.pyplot as plt\n",
    "import numpy as np\n",
    "\n",
    "caption_ratings = []\n",
    "for v in v1:\n",
    "    caption_ratings.append(int(v[1]['caption_rating(1-wst, 5-bst)']))\n",
    "\n",
    "\n",
    "\n",
    "# print(caption_ratings)\n",
    "\n",
    "# Convert caption ratings to integers\n",
    "caption_ratings = list(map(int, caption_ratings))\n",
    "\n",
    "# Plot the distribution\n",
    "plt.hist(caption_ratings, bins=np.arange(1,7), edgecolor='black')\n",
    "\n",
    "# Set labels and title\n",
    "plt.xlabel('Caption Ratings')\n",
    "plt.ylabel('Frequency')\n",
    "plt.title('va1 cap ratings')\n",
    "\n",
    "# Show the plot\n",
    "plt.show()"
   ]
  },
  {
   "cell_type": "code",
   "execution_count": 71,
   "metadata": {},
   "outputs": [
    {
     "data": {
      "image/png": "[encoded data removed]",
      "text/plain": [
       "<Figure size 432x288 with 1 Axes>"
      ]
     },
     "metadata": {
      "needs_background": "light"
     },
     "output_type": "display_data"
    }
   ],
   "source": [
    "#plot ratings\n",
    "import matplotlib.pyplot as plt\n",
    "import numpy as np\n",
    "\n",
    "caption_ratings = []\n",
    "for v in v2:\n",
    "    # print(v[1]['caption_rating(1-wst, 5-bst)'])\n",
    "    caption_ratings.append(int(v[1]['caption_rating(1-wst, 5-bst)']))\n",
    "\n",
    "\n",
    "\n",
    "# print(caption_ratings)\n",
    "\n",
    "# Convert caption ratings to integers\n",
    "caption_ratings = list(map(int, caption_ratings))\n",
    "\n",
    "# Plot the distribution\n",
    "plt.hist(caption_ratings, bins=np.arange(1,7), edgecolor='black')\n",
    "\n",
    "# Set labels and title\n",
    "plt.xlabel('Caption Ratings')\n",
    "plt.ylabel('Frequency')\n",
    "plt.title('val 2 cap ratings')\n",
    "\n",
    "# Show the plot\n",
    "plt.show()"
   ]
  },
  {
   "cell_type": "code",
   "execution_count": 72,
   "metadata": {},
   "outputs": [
    {
     "name": "stdout",
     "output_type": "stream",
     "text": [
      "len(reference_captions) 1\n",
      "len(candidate_captions) 1\n",
      "cumulative BLEU scores:\n",
      "BLEU@1: 0.2000\n",
      "BLEU@2: 0.0000\n",
      "BLEU@3: 0.0000\n",
      "BLEU@4: 0.0000\n"
     ]
    },
    {
     "name": "stderr",
     "output_type": "stream",
     "text": [
      "/home/grads/h/hasnat.md.abdullah/open_ended_activity_analysis/oeaa/lib/python3.6/site-packages/nltk/translate/bleu_score.py:552: UserWarning: \n",
      "The hypothesis contains 0 counts of 2-gram overlaps.\n",
      "Therefore the BLEU score evaluates to 0, independently of\n",
      "how many N-gram overlaps of lower order it contains.\n",
      "Consider using lower n-gram order or use SmoothingFunction()\n",
      "  warnings.warn(_msg)\n",
      "/home/grads/h/hasnat.md.abdullah/open_ended_activity_analysis/oeaa/lib/python3.6/site-packages/nltk/translate/bleu_score.py:552: UserWarning: \n",
      "The hypothesis contains 0 counts of 3-gram overlaps.\n",
      "Therefore the BLEU score evaluates to 0, independently of\n",
      "how many N-gram overlaps of lower order it contains.\n",
      "Consider using lower n-gram order or use SmoothingFunction()\n",
      "  warnings.warn(_msg)\n",
      "/home/grads/h/hasnat.md.abdullah/open_ended_activity_analysis/oeaa/lib/python3.6/site-packages/nltk/translate/bleu_score.py:552: UserWarning: \n",
      "The hypothesis contains 0 counts of 4-gram overlaps.\n",
      "Therefore the BLEU score evaluates to 0, independently of\n",
      "how many N-gram overlaps of lower order it contains.\n",
      "Consider using lower n-gram order or use SmoothingFunction()\n",
      "  warnings.warn(_msg)\n"
     ]
    }
   ],
   "source": [
    "# ground truth cap vs low10 hasnat\n",
    "low10_hasnat_path = \"/home/grads/h/hasnat.md.abdullah/open_ended_activity_analysis/zero-shot-video-to-text/experiments/summary_study_activityNet/manual_captioning/decap_output_val_1_summary_id_caption_hasnat_low10.json\"\n",
    "low_hasnat = load_json_file(low10_hasnat_path)\n",
    "\n",
    "\n",
    "import nltk\n",
    "import string\n",
    "from nltk.translate.bleu_score import sentence_bleu\n",
    "import statistics\n",
    "def remove_punctuation(sentence):\n",
    "    # Remove punctuations from the sentence\n",
    "    no_punct = sentence.translate(str.maketrans(\"\", \"\", string.punctuation))\n",
    "    # Lowercase all the words\n",
    "    lowercase_sentence = no_punct.lower()\n",
    "\n",
    "    # stem words\n",
    "    stemmer = nltk.stem.PorterStemmer()\n",
    "    sentence = \" \".join([stemmer.stem(word) for word in lowercase_sentence.split()])\n",
    "    return sentence\n",
    "reference = [\"A woman stands in a room\"]\n",
    "candidate = [\"a women is playing violin\"]\n",
    "\n",
    "\n",
    "\n",
    "\n",
    "\n",
    "# Tokenize the captions\n",
    "reference_captions = [caption.split() for caption in reference]\n",
    "candidate_captions = [caption.split() for caption in candidate]\n",
    "\n",
    "print(\"len(reference_captions)\",len(reference))\n",
    "print(\"len(candidate_captions)\",len(candidate))\n",
    "# Calculate BLEU score\n",
    "cumulative_bleu_scores = []\n",
    "weight_list = [(1, 0, 0, 0),(0.5, 0.5, 0, 0),(0.33, 0.33, 0.33, 0),(0.25, 0.25, 0.25, 0.25)]\n",
    "for n in range(1, 5):\n",
    "    bleu_scores = [sentence_bleu(ref, cand, weights=weight_list[n-1]) for ref, cand in zip(reference_captions, candidate_captions)]\n",
    "    \n",
    "    # print(type(bleu_scores))\n",
    "\n",
    "    average_bleu_score = statistics.mean(bleu_scores)\n",
    "    cumulative_bleu_scores.append(average_bleu_score)\n",
    "\n",
    "# Print cumulative BLEU scores\n",
    "print(\"cumulative BLEU scores:\")\n",
    "for i, score in enumerate(cumulative_bleu_scores):\n",
    "    print(f\"BLEU@{i+1}: {score:.4f}\")"
   ]
  }
 ],
 "metadata": {
  "kernelspec": {
   "display_name": "oeaa",
   "language": "python",
   "name": "python3"
  },
  "language_info": {
   "codemirror_mode": {
    "name": "ipython",
    "version": 3
   },
   "file_extension": ".py",
   "mimetype": "text/x-python",
   "name": "python",
   "nbconvert_exporter": "python",
   "pygments_lexer": "ipython3",
   "version": "3.6.9"
  },
  "orig_nbformat": 4
 },
 "nbformat": 4,
 "nbformat_minor": 2
}
