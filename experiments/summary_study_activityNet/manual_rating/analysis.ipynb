{
 "cells": [
  {
   "cell_type": "code",
   "execution_count": 3,
   "metadata": {},
   "outputs": [
    {
     "data": {
      "text/plain": [
       "['v_4Lu8ECLHvK4',\n",
       " {'start': 0,\n",
       "  'end': 124.23,\n",
       "  'summary_cap': 'There are some people including small children near a soccer field.',\n",
       "  'path': '/home/grads/h/hasnat.md.abdullah/open_ended_activity_analysis/zero-shot-video-to-text/data/ActivityNet_captions_dataset/validation/Playing_kickball/4Lu8ECLHvK4.mp4',\n",
       "  'generated_summary': 'Video presents the pitch for a pitcher throwing to his son, who is playing in an elementary baseball league.',\n",
       "  'url': 'https://www.youtube.com/watch?v=4Lu8ECLHvK4',\n",
       "  'label': 'Playing kickball',\n",
       "  'tian_caption_no_instruction': '',\n",
       "  'hasnat_caption_no_instruction': '',\n",
       "  'tian_caption_with_instruction': '',\n",
       "  'hasnat_caption_with_instruction': '',\n",
       "  'caption_rating(1-wst, 5-bst)': '4',\n",
       "  'slot2_path': '/slot2/open_ended_video_analytics/data/ActivityNet_200/validation/Playing_kickball/4Lu8ECLHvK4.mp4',\n",
       "  'slot2_framepath': '/slot2/open_ended_video_analytics/data/Decap_ANet_videosummary/4Lu8ECLHvK4',\n",
       "  'DeCap_caption': 'a baseball player is up to bat at a baseball game . ',\n",
       "  'DeCap_caption_bleu1': 0.090909,\n",
       "  'DeCap_caption_bleu2': 0.0,\n",
       "  'DeCap_caption_bleu3': 0.0,\n",
       "  'DeCap_caption_bleu4': 0.0,\n",
       "  'DeCap_caption_meteor': 0.045455,\n",
       "  'DeCap_caption_cider': 0.0,\n",
       "  'generated_summary_bleu1': 0.052632,\n",
       "  'generated_summary_bleu2': 0.0,\n",
       "  'generated_summary_bleu3': 0.0,\n",
       "  'generated_summary_bleu4': 0.0,\n",
       "  'generated_summary_meteor': 0.042373,\n",
       "  'generated_summary_cider': 0.0}]"
      ]
     },
     "execution_count": 3,
     "metadata": {},
     "output_type": "execute_result"
    }
   ],
   "source": [
    "import json\n",
    "def load_json_file(file_path):\n",
    "    with open(file_path, 'r') as file:\n",
    "        data = json.load(file)\n",
    "    return data\n",
    "v1_path = \"/home/grads/h/hasnat.md.abdullah/open_ended_activity_analysis/zero-shot-video-to-text/experiments/summary_study_activityNet/manual_rating/decap_output_val_1_summary_id_caption_hasnat_low72.json\"\n",
    "v1 = load_json_file(v1_path)\n",
    "\n",
    "len(v1)\n",
    "\n",
    "v1[0]"
   ]
  },
  {
   "cell_type": "code",
   "execution_count": 8,
   "metadata": {},
   "outputs": [
    {
     "data": {
      "text/plain": [
       "21"
      ]
     },
     "execution_count": 8,
     "metadata": {},
     "output_type": "execute_result"
    }
   ],
   "source": [
    "c =0\n",
    "for v in v1:\n",
    "    cap__rate = v[1].get('caption_rating(1-wst, 5-bst)', '')\n",
    "    if cap__rate  == '1':\n",
    "        c+=1\n",
    "c        "
   ]
  },
  {
   "cell_type": "code",
   "execution_count": 11,
   "metadata": {},
   "outputs": [
    {
     "data": {
      "text/plain": [
       "2"
      ]
     },
     "execution_count": 11,
     "metadata": {},
     "output_type": "execute_result"
    }
   ],
   "source": [
    "v2_path = \"/home/grads/h/hasnat.md.abdullah/open_ended_activity_analysis/zero-shot-video-to-text/experiments/summary_study_activityNet/manual_rating/decap_output_val_2_summary_id_caption_tian_low82.json\"\n",
    "v2 =load_json_file(v2_path)\n",
    "c =0\n",
    "for v in v2:\n",
    "    cap__rate = v[1].get('caption_rating(1-wst, 5-bst)', '')\n",
    "    if cap__rate  == '1':\n",
    "        c+=1\n",
    "c"
   ]
  },
  {
   "cell_type": "code",
   "execution_count": 14,
   "metadata": {},
   "outputs": [
    {
     "data": {
      "text/plain": [
       "['v_4Lu8ECLHvK4',\n",
       " {'start': 0,\n",
       "  'end': 124.23,\n",
       "  'summary_cap': 'There are some people including small children near a soccer field.',\n",
       "  'path': '/home/grads/h/hasnat.md.abdullah/open_ended_activity_analysis/zero-shot-video-to-text/data/ActivityNet_captions_dataset/validation/Playing_kickball/4Lu8ECLHvK4.mp4',\n",
       "  'generated_summary': 'Video presents the pitch for a pitcher throwing to his son, who is playing in an elementary baseball league.',\n",
       "  'url': 'https://www.youtube.com/watch?v=4Lu8ECLHvK4',\n",
       "  'label': 'Playing kickball',\n",
       "  'tian_caption_no_instruction': 'a group of kids are playing in the field.',\n",
       "  'hasnat_caption_no_instruction': '',\n",
       "  'tian_caption_with_instruction': '',\n",
       "  'hasnat_caption_with_instruction': '',\n",
       "  'caption_rating(1-wst, 5-bst)': '',\n",
       "  'slot2_path': '/slot2/open_ended_video_analytics/data/ActivityNet_200/validation/Playing_kickball/4Lu8ECLHvK4.mp4',\n",
       "  'slot2_framepath': '/slot2/open_ended_video_analytics/data/Decap_ANet_videosummary/4Lu8ECLHvK4',\n",
       "  'DeCap_caption': 'a baseball player is up to bat at a baseball game . ',\n",
       "  'DeCap_caption_bleu1': 0.090909,\n",
       "  'DeCap_caption_bleu2': 0.0,\n",
       "  'DeCap_caption_bleu3': 0.0,\n",
       "  'DeCap_caption_bleu4': 0.0,\n",
       "  'DeCap_caption_meteor': 0.045455,\n",
       "  'DeCap_caption_cider': 0.0,\n",
       "  'generated_summary_bleu1': 0.052632,\n",
       "  'generated_summary_bleu2': 0.0,\n",
       "  'generated_summary_bleu3': 0.0,\n",
       "  'generated_summary_bleu4': 0.0,\n",
       "  'generated_summary_meteor': 0.042373,\n",
       "  'generated_summary_cider': 0.0}]"
      ]
     },
     "execution_count": 14,
     "metadata": {},
     "output_type": "execute_result"
    }
   ],
   "source": [
    "# our captions vs hasnat_low10 (tian)\n",
    "low10_tian_path = \"/home/grads/h/hasnat.md.abdullah/open_ended_activity_analysis/zero-shot-video-to-text/experiments/summary_study_activityNet/manual_captioning/decap_output_val_1_summary_id_caption_tian_low10.json\"\n",
    "low_tian = load_json_file(low10_tian_path)\n",
    "\n",
    "low_tian[0]"
   ]
  },
  {
   "cell_type": "code",
   "execution_count": null,
   "metadata": {},
   "outputs": [],
   "source": [
    "reference = []\n",
    "candidate = []\n",
    "for v in low_tian:\n",
    "\n",
    "# Extract 'tian_caption_no_instruction' in a list called 'candidate'\n",
    "candidate = [v[1].get('tian_caption_no_instruction', '')]\n",
    "\n",
    "# Extract 'summary_cap' in a list called 'reference'\n",
    "reference = [v[1].get('summary_cap', '')]"
   ]
  }
 ],
 "metadata": {
  "kernelspec": {
   "display_name": "oeaa",
   "language": "python",
   "name": "python3"
  },
  "language_info": {
   "codemirror_mode": {
    "name": "ipython",
    "version": 3
   },
   "file_extension": ".py",
   "mimetype": "text/x-python",
   "name": "python",
   "nbconvert_exporter": "python",
   "pygments_lexer": "ipython3",
   "version": "3.6.9"
  },
  "orig_nbformat": 4
 },
 "nbformat": 4,
 "nbformat_minor": 2
}
