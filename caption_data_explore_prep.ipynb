{
 "cells": [
  {
   "cell_type": "code",
   "execution_count": 3,
   "metadata": {},
   "outputs": [],
   "source": [
    "import json"
   ]
  },
  {
   "attachments": {},
   "cell_type": "markdown",
   "metadata": {},
   "source": [
    "## Activity net dataset video file counts "
   ]
  },
  {
   "cell_type": "code",
   "execution_count": 7,
   "metadata": {},
   "outputs": [
    {
     "name": "stdout",
     "output_type": "stream",
     "text": [
      "Total files: 14819\n"
     ]
    }
   ],
   "source": [
    "#total files\n",
    "import os\n",
    "\n",
    "def count_files(folder_path):\n",
    "    file_count = 0\n",
    "    for root, dirs, files in os.walk(folder_path):\n",
    "        file_count += len(files)\n",
    "    return file_count\n",
    "\n",
    "folder_path = 'E:\\Datasets\\ActivityNet\\data\\ActivityNet_200'  # Replace with the actual folder path\n",
    "total_files = count_files(folder_path)\n",
    "print(\"Total files:\", total_files)"
   ]
  },
  {
   "cell_type": "code",
   "execution_count": 13,
   "metadata": {},
   "outputs": [
    {
     "name": "stdout",
     "output_type": "stream",
     "text": [
      "testing files: 3703\n"
     ]
    }
   ],
   "source": [
    "folder_path = 'E:\\Datasets\\ActivityNet\\data\\ActivityNet_200\\\\testing'  # Replace with the actual folder path\n",
    "total_files = count_files(folder_path)\n",
    "print(\"testing files:\", total_files)"
   ]
  },
  {
   "cell_type": "code",
   "execution_count": 14,
   "metadata": {},
   "outputs": [
    {
     "name": "stdout",
     "output_type": "stream",
     "text": [
      "training files: 7453\n"
     ]
    }
   ],
   "source": [
    "folder_path = 'E:\\Datasets\\ActivityNet\\data\\ActivityNet_200\\\\training'  # Replace with the actual folder path\n",
    "total_files = count_files(folder_path)\n",
    "print(\"training files:\", total_files)"
   ]
  },
  {
   "cell_type": "code",
   "execution_count": 15,
   "metadata": {},
   "outputs": [
    {
     "name": "stdout",
     "output_type": "stream",
     "text": [
      "validation files: 3663\n"
     ]
    }
   ],
   "source": [
    "folder_path = 'E:\\Datasets\\ActivityNet\\data\\ActivityNet_200\\\\validation'  # Replace with the actual folder path\n",
    "total_files = count_files(folder_path)\n",
    "print(\"validation files:\", total_files)"
   ]
  },
  {
   "attachments": {},
   "cell_type": "markdown",
   "metadata": {},
   "source": [
    "## Activity net captions explore\n"
   ]
  },
  {
   "cell_type": "code",
   "execution_count": 3,
   "metadata": {},
   "outputs": [],
   "source": [
    "import pickle\n",
    "a_n_captions_file_path = \"E:\\\\Datasets\\\\ActivityNet\\\\activity_net_captions.pickle\"\n",
    "with open(a_n_captions_file_path,\"rb\") as f:\n",
    "    captions = pickle.load(f)\n"
   ]
  },
  {
   "cell_type": "code",
   "execution_count": 5,
   "metadata": {},
   "outputs": [
    {
     "name": "stdout",
     "output_type": "stream",
     "text": [
      "QOlSCBRmfWY\n",
      "{'start': array([ 0.83, 17.37, 56.26]), 'end': array([19.86, 60.81, 79.42]), 'text': array(['A young woman is seen standing in a room and leads into her dancing.',\n",
      "       ' The girl dances around the room while the camera captures her movements.',\n",
      "       ' She continues dancing around the room and ends by laying on the floor.'],\n",
      "      dtype=object), 'transcript': array(['none', 'none', 'none'], dtype=object)}\n"
     ]
    }
   ],
   "source": [
    "for key in captions.keys():\n",
    "    print(key)\n",
    "    print(captions[key])\n",
    "    break"
   ]
  },
  {
   "cell_type": "code",
   "execution_count": 6,
   "metadata": {},
   "outputs": [
    {
     "data": {
      "text/plain": [
       "{'start': array([ 0.83, 17.37, 56.26]),\n",
       " 'end': array([19.86, 60.81, 79.42]),\n",
       " 'text': array(['A young woman is seen standing in a room and leads into her dancing.',\n",
       "        ' The girl dances around the room while the camera captures her movements.',\n",
       "        ' She continues dancing around the room and ends by laying on the floor.'],\n",
       "       dtype=object),\n",
       " 'transcript': array(['none', 'none', 'none'], dtype=object)}"
      ]
     },
     "execution_count": 6,
     "metadata": {},
     "output_type": "execute_result"
    }
   ],
   "source": [
    "captions['QOlSCBRmfWY']"
   ]
  },
  {
   "attachments": {},
   "cell_type": "markdown",
   "metadata": {},
   "source": [
    "## find least frequent 50 labels from train+validation set"
   ]
  },
  {
   "cell_type": "code",
   "execution_count": 13,
   "metadata": {},
   "outputs": [],
   "source": [
    "import json\n",
    "\n",
    "# Specify the path to your JSON file\n",
    "label_video_ct_path = \"E:\\\\Datasets\\\\ActivityNet\\\\data\\\\label_video_ct.json\"\n",
    "\n",
    "# Open the file and load its contents\n",
    "with open(label_video_ct_path, \"r\") as file:\n",
    "    label_video_ct = json.load(file)\n",
    "\n",
    "\n",
    "least_50_label_video_ct = label_video_ct[-50:]\n",
    "\n",
    "# Write the list to the JSON file\n",
    "with open(\"data\\\\least_50_label_video_ct.json\", \"w\") as file:\n",
    "    json.dump(least_50_label_video_ct, file,indent=4)"
   ]
  },
  {
   "attachments": {},
   "cell_type": "markdown",
   "metadata": {},
   "source": [
    "## make {label: [video_id,..]} and store to generate video path, start, end file for caption generator"
   ]
  },
  {
   "cell_type": "code",
   "execution_count": 68,
   "metadata": {},
   "outputs": [],
   "source": [
    "least_50_label_video_ct_path = \"E:\\\\Datasets\\\\ActivityNet\\\\data\\\\least_50_label_video_ct.json\"\n",
    "\n",
    "with open(least_50_label_video_ct_path,'r') as file: \n",
    "    least_50_label_video_ct = json.load(file)\n",
    "\n",
    "least_50_label_list = [item[0] for item in least_50_label_video_ct]\n"
   ]
  },
  {
   "cell_type": "code",
   "execution_count": 19,
   "metadata": {},
   "outputs": [],
   "source": [
    "with open(\"E:\\\\Datasets\\\\ActivityNet\\\\activity_net.v1-3.min.json\",'rb') as file:\n",
    "    data = json.load(file)\n",
    "\n",
    "# take only video informations from database object\n",
    "videos = data['database']"
   ]
  },
  {
   "cell_type": "code",
   "execution_count": 54,
   "metadata": {},
   "outputs": [
    {
     "name": "stdout",
     "output_type": "stream",
     "text": [
      "2884\n"
     ]
    }
   ],
   "source": [
    "label_to_video_id = {}\n",
    "c=0\n",
    "for key in videos.keys():\n",
    "    # print(videos[key])\n",
    "    video = videos[key]\n",
    "    if video['subset'] == 'training' or video['subset']=='validation':\n",
    "    \n",
    "        if video['annotations'][0]['label'] in least_50_label_list: # choose the first annotation label as the video label  \n",
    "            # print(\"yes\")\n",
    "            c+=1\n",
    "            # else: print(\"no\")\n",
    "print(c)\n",
    "    "
   ]
  },
  {
   "cell_type": "code",
   "execution_count": 56,
   "metadata": {},
   "outputs": [
    {
     "data": {
      "text/plain": [
       "2884"
      ]
     },
     "execution_count": 56,
     "metadata": {},
     "output_type": "execute_result"
    }
   ],
   "source": [
    "## checking whether least 50 label (train+valid) video counts == count c\n",
    "sum([item[1] for item in least_50_label_video_ct])"
   ]
  },
  {
   "cell_type": "code",
   "execution_count": 59,
   "metadata": {},
   "outputs": [
    {
     "name": "stdout",
     "output_type": "stream",
     "text": [
      "1919\n"
     ]
    }
   ],
   "source": [
    "# selecting videos from only training set that are among least_50_label_list\n",
    "# there are 1919 videos \n",
    "label_to_video_id = {}\n",
    "c=0\n",
    "for key in videos.keys():\n",
    "    # print(videos[key])\n",
    "    video = videos[key]\n",
    "    if video['subset'] == 'training':\n",
    "    \n",
    "        if video['annotations'][0]['label'] in least_50_label_list: # choose the first annotation label as the video label  \n",
    "            label = video['annotations'][0]['label']\n",
    "            c+=1\n",
    "            if label not in label_to_video_id: \n",
    "                label_to_video_id[label]=[key]\n",
    "            else: \n",
    "                label_to_video_id[label].append(key)\n",
    "            # else: print(\"no\")\n",
    "print(c)"
   ]
  },
  {
   "cell_type": "code",
   "execution_count": 66,
   "metadata": {},
   "outputs": [
    {
     "name": "stdout",
     "output_type": "stream",
     "text": [
      "label count: 50\n",
      "video count: 1919\n"
     ]
    }
   ],
   "source": [
    "#checking label and video counts to match with counter c\n",
    "print(\"label count:\", len(label_to_video_id.keys()))\n",
    "print(\"video count:\", sum([len(label_to_video_id[key]) for key in label_to_video_id.keys()]))"
   ]
  },
  {
   "cell_type": "code",
   "execution_count": 67,
   "metadata": {},
   "outputs": [],
   "source": [
    "# save the file for generating video paths and later concatenating start,end segments from  Activity net captions\n",
    "with open(\"label_to_video_ids_least_50_label_trainset.json\",'w') as file:\n",
    "    json.dump(label_to_video_id,file, indent=4)"
   ]
  },
  {
   "attachments": {},
   "cell_type": "markdown",
   "metadata": {},
   "source": [
    "## generate least_50_label_video_id_segment_caps\n",
    "\n",
    "    "
   ]
  },
  {
   "cell_type": "code",
   "execution_count": null,
   "metadata": {},
   "outputs": [],
   "source": [
    "# format: \n",
    "# {\n",
    "#     \"label\": [\n",
    "#         {\n",
    "#             video_id: [\n",
    "#                 {\n",
    "#                     #these are segments\n",
    "#                     \"caption\": \"A furniture renovation company advertises their services by showing several homes and tools they have worked on and use and what type of work they do.\",\n",
    "#                     \"start\": 0.0,\n",
    "#                     \"end\": 50.48,\n",
    "#                     \"path\": \"Polishing_forniture/Ou24uqaFRPg.mp4\"\n",
    "#                 },\n",
    "#                 {\n",
    "#                     \"caption\": \" A man in an apron carefully puts a colored substance on a plate.\",\n",
    "#                     \"start\": 9.84,\n",
    "#                     \"end\": 12.87,\n",
    "#                     \"path\": \"Polishing_forniture/Ou24uqaFRPg.mp4\"\n",
    "#                 }],\n",
    "#             video_id: [\n",
    "#                 {\n",
    "#                     ...\n",
    "#                 }]\n",
    "#         }],\n",
    "\n",
    "# }"
   ]
  },
  {
   "cell_type": "code",
   "execution_count": 12,
   "metadata": {},
   "outputs": [],
   "source": [
    "# load activity net captions \n",
    "import pickle\n",
    "a_n_captions_file_path = \"E:\\\\Datasets\\\\ActivityNet\\\\activity_net_captions.pickle\"\n",
    "with open(a_n_captions_file_path,\"rb\") as f:\n",
    "    captions = pickle.load(f)"
   ]
  },
  {
   "cell_type": "code",
   "execution_count": 4,
   "metadata": {},
   "outputs": [],
   "source": [
    "# load least 50 labels (train set), label to video ids\n",
    "with open(\"E:\\\\Datasets\\\\ActivityNet\\\\data\\\\label_to_video_ids_least_50_label_trainset.json\",'r') as file:\n",
    "    label_to_ids_least_50 = json.load(file)\n",
    "\n"
   ]
  },
  {
   "cell_type": "code",
   "execution_count": 5,
   "metadata": {},
   "outputs": [
    {
     "name": "stdout",
     "output_type": "stream",
     "text": [
      "{'start': array([ 0.83, 17.37, 56.26]), 'end': array([19.86, 60.81, 79.42]), 'text': array(['A young woman is seen standing in a room and leads into her dancing.',\n",
      "       ' The girl dances around the room while the camera captures her movements.',\n",
      "       ' She continues dancing around the room and ends by laying on the floor.'],\n",
      "      dtype=object), 'transcript': array(['none', 'none', 'none'], dtype=object)}\n"
     ]
    }
   ],
   "source": [
    "for key in captions.keys():\n",
    "    print(captions[key])\n",
    "    break"
   ]
  },
  {
   "cell_type": "code",
   "execution_count": 82,
   "metadata": {},
   "outputs": [
    {
     "name": "stdout",
     "output_type": "stream",
     "text": [
      "QOlSCBRmfWY\n",
      "i 0\n",
      "\n",
      "        video_id: QOlSCBRmfWY\n",
      "        caption: A young woman is seen standing in a room and leads into her dancing.\n",
      "        start: 0.83 \n",
      "        end: 19.86\n",
      "        \n",
      "i 1\n",
      "\n",
      "        video_id: QOlSCBRmfWY\n",
      "        caption:  The girl dances around the room while the camera captures her movements.\n",
      "        start: 17.37 \n",
      "        end: 60.81\n",
      "        \n",
      "i 2\n",
      "\n",
      "        video_id: QOlSCBRmfWY\n",
      "        caption:  She continues dancing around the room and ends by laying on the floor.\n",
      "        start: 56.26 \n",
      "        end: 79.42\n",
      "        \n"
     ]
    }
   ],
   "source": [
    "for key in captions.keys():\n",
    "    video = captions[key]\n",
    "    print(key)\n",
    "    for i in range(len(video['start'])):\n",
    "        print(\"i\",i)\n",
    "        start = video['start'][i]\n",
    "        end = video['end'][i]\n",
    "        text = video['text'][i]\n",
    "        print(f'''\n",
    "        video_id: {key}\n",
    "        caption: {text}\n",
    "        start: {start} \n",
    "        end: {end}\n",
    "        ''')\n",
    "    break"
   ]
  },
  {
   "cell_type": "code",
   "execution_count": 24,
   "metadata": {},
   "outputs": [
    {
     "name": "stdout",
     "output_type": "stream",
     "text": [
      "captions not found for video id:  JkxO6IhuhOs \n",
      "label:  Bungee jumping\n"
     ]
    }
   ],
   "source": [
    "least_50_label_video_id_segment_caps={}\n",
    "for label,video_ids in label_to_ids_least_50.items():\n",
    "    # print(\"\\t\",label)\n",
    "    video_id_to_segment_caps = {}\n",
    "    for id in video_ids: \n",
    "        \n",
    "        try: \n",
    "            cap_data = captions[id] #captions is loaded from activity_net_captions.pickle\n",
    "            # if id == \"adz3kDJLCF4\":\n",
    "\n",
    "            # # print(id)\n",
    "            #     print(cap_data)\n",
    "            segment_cap_list = []\n",
    "            for i in range(len(cap_data['start'])):\n",
    "                segment_cap ={}\n",
    "\n",
    "                text = cap_data['text'][i].strip()\n",
    "                start = cap_data['start'][i]\n",
    "                end = cap_data['end'][i]\n",
    "                path = label.replace(\" \",\"_\")+\"/\"+id+\".mp4\"\n",
    "                \n",
    "                segment_cap['caption'] = text\n",
    "                segment_cap['start'] = float(start) # converting to float, beacuse id \"adz3kDJLCF4\" has start array of integers\n",
    "                segment_cap['end'] = float(end) \n",
    "                segment_cap['path'] = path\n",
    "\n",
    "                segment_cap_list.append(segment_cap)\n",
    "                # print(f'''\n",
    "                # video_id: {id}\n",
    "                # caption: {text}\n",
    "                # start: {start} \n",
    "                # end: {end}\n",
    "                # path: {label.replace(\" \",\"_\")}/{id}.mp4\n",
    "                # ''')\n",
    "        except: \n",
    "            print(\"captions not found for video id: \",id, \"\\nlabel: \",label)\n",
    "            \n",
    "            # segment_cap_list=[{\"caption\":\"-\",\n",
    "            #                    \"start\":\"0.0\",\n",
    "            #                    \"end\":\"0.0\",\n",
    "            #                    \"path\":\"-\"\n",
    "            #                    }]\n",
    "            \n",
    "            \n",
    "        video_id_to_segment_caps[id] = segment_cap_list\n",
    "        \n",
    "    least_50_label_video_id_segment_caps[label] = video_id_to_segment_caps\n",
    "    \n",
    "# print(least_50_label_video_id_segment_caps)\n",
    "\n",
    "with open(\"data/least_50_label_video_id_segment_caps.json\",\"w\") as f: \n",
    "    json.dump(least_50_label_video_id_segment_caps,f,indent=4)\n",
    "   "
   ]
  },
  {
   "cell_type": "code",
   "execution_count": 54,
   "metadata": {},
   "outputs": [
    {
     "data": {
      "text/plain": [
       "36"
      ]
     },
     "execution_count": 54,
     "metadata": {},
     "output_type": "execute_result"
    }
   ],
   "source": [
    "# check the length of total videos of random label : 'Carving jack-o-lanterns', in label_to_ids_least_50 \n",
    "len(label_to_ids_least_50['Carving jack-o-lanterns'])"
   ]
  },
  {
   "cell_type": "code",
   "execution_count": 55,
   "metadata": {},
   "outputs": [
    {
     "data": {
      "text/plain": [
       "36"
      ]
     },
     "execution_count": 55,
     "metadata": {},
     "output_type": "execute_result"
    }
   ],
   "source": [
    "#check the length of total videos of random label: 'Carving jack-o-lanterns' on least least_50_label_video_id_segment_caps\n",
    "len(least_50_label_video_id_segment_caps['Carving jack-o-lanterns'])"
   ]
  }
 ],
 "metadata": {
  "kernelspec": {
   "display_name": "a_n",
   "language": "python",
   "name": "python3"
  },
  "language_info": {
   "codemirror_mode": {
    "name": "ipython",
    "version": 3
   },
   "file_extension": ".py",
   "mimetype": "text/x-python",
   "name": "python",
   "nbconvert_exporter": "python",
   "pygments_lexer": "ipython3",
   "version": "3.11.3"
  },
  "orig_nbformat": 4,
  "vscode": {
   "interpreter": {
    "hash": "ced5d7e175a097fc893c7089d1c08303e25264a9e523a81b66040f418cceb935"
   }
  }
 },
 "nbformat": 4,
 "nbformat_minor": 2
}
